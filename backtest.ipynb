{
 "cells": [
  {
   "cell_type": "code",
   "execution_count": 9,
   "metadata": {},
   "outputs": [],
   "source": [
    "import  json \n",
    "import ccxt\n",
    "\n",
    "f = open('config.json',)\n",
    "mdp = json.load(f)\n",
    "f.close()\n",
    "\n",
    "audenthifiation =  {\n",
    "    'apiKey': mdp[\"API\"],\n",
    "    'secret': mdp[\"API_secret\"],\n",
    "    'options': {\n",
    "        'defaultType': 'spot',  #margin, spot, future, per, ect\n",
    "    }\n",
    "}\n",
    "binance = ccxt.binance(audenthifiation)"
   ]
  },
  {
   "cell_type": "code",
   "execution_count": 3,
   "metadata": {},
   "outputs": [
    {
     "name": "stdout",
     "output_type": "stream",
     "text": [
      "['Avis sur les nouvelles paires de trading et les nouveaux services de bots de trading sur Binance Spot (24/01/2024)2024-01-23', 'Avis sur les nouvelles paires de trading et sur les nouveaux services de bots de trading sur Binance Spot (19/01/2024)2024-01-19', 'Introduction du AltLayer (ALT) sur le Launchpool de Binance ! Farmez des ALT en stakant des BNB et des FDUSD2024-01-18', 'Introduction du Manta (MANTA) sur le Launchpool de Binance ! Farmez des MANTA en stakant des BNB, FDUSD2024-01-15', 'Avis sur les nouvelles paires de trading et sur les nouveaux services de bots de trading sur Binance Spot (04/01/2024)2024-01-04', 'Introduction du Xai (XAI) sur le Launchpool de Binance ! Farmer des XAI en stakant des BNB, FDUSD et TUSD2024-01-03', 'Introduction du Sleepless AI (AI) sur le Launchpool de Binance ! Farmer des AI en stakant des BNB, FDUSD et TUSD2023-12-27', 'Avis sur les nouvelles paires de trading et sur les nouveaux services de bots de trading sur Binance Spot (21/12/2023)2023-12-20', 'Introduction de NFPrompt (NFP) sur le mode équitable du Launchpool de Binance ! Farmez des NFP en stakant des BNB, des FDUSD et des TUSD2023-12-19', 'Binance listera le Bonk (BONK) en appliquant le libellé Financement2023-12-15', 'Avis sur les nouveaux services de paires de trading et de robots de trading sur Binance Spot : le 14/12/20242023-12-13', 'Binance listera le BRC-20 Sats (1000SATS) avec le libellé Financement2023-12-12', 'Introduction de Fusionist (ACE) sur le Launchpool de Binance ! Farmez des ACE en stakant des BNB et FDUSD2023-12-11', 'Binance listera le Jito (JTO) en appliquant le libellé Financement2023-12-07', 'Binance listera l’Anchored Coins EUR (AEUR) et lancera des promotions sans aucuns frais de trading sur l’AEUR2023-12-04', 'Avis sur les nouveaux de paires trading sur Binance Spot - 2023-11-302023-11-29', 'Binance listera le Blur (BLUR) en appliquant le libellé Financement2023-11-24', 'Avis sur les nouveaux services de paires de trading et de robots de trading sur Binance Spot - 2023-11-232023-11-22', 'Avis sur les nouveaux services de paires de trading et de bots de trading sur Binance Spot - 2023-11-092023-11-08', 'Binance listera les Ordinals (ORDI) en appliquant le libellé Financement2023-11-07', 'Binance va ouvrir le trading pour le Memecoin (MEME)2023-11-02', 'Binance listera le Celestia (TIA) en appliquant le libellé Financement2023-10-30', 'Introduction du Memecoin (MEME) sur le Launchpool de Binance ! Farmez des MEME en stakant des BNB, TUSD et FDUSD2023-10-27', 'Avis sur les nouveaux services de paires de trading et de Bot de trading sur Binance Spot - 2023-10-262023-10-25', 'Introduction du Neutron (NTRN) sur le Launchpool de Binance ! Farmez des NTRN en stakant des BNB, TUSD et FDUSD2023-10-10', 'Binance listera le Neutron (NTRN) en appliquant le libellé Financement2023-10-10', 'Avis de retrait et d’ajout de plusieurs paires de trading le 22/09/20232023-09-21', 'Binance ajoute les paires de trading CYBER/ETH et MTL/TRY2023-09-20', 'Binance ajoute les paires de trading DOGE/FDUSD, SOL/FDUSD, TOMO/TRY, UNFI/TRY et XRP/FDUSD2023-09-06', 'Binance ajoute les paires de trading CYBER/TUSD, LPT/TRY, SEI/TUSD et UNI/TRY2023-08-22', 'Binance ouvrira le trading pour CyberConnect (CYBER) et Sei (SEI)2023-08-14', 'Binance ajoute les paires de trading BTC/FDUSD et ETH/FDUSD et met à jour le programme de trading de Bitcoin sans frais2023-08-03', 'Introduction du Sei (SEI) sur le Launchpool de Binance ! Farmer des SEI en stakant des BNB, TUSD et FDUSD2023-08-01', 'Introduction de CyberConnect (CYBER) sur le Launchpool de Binance ! Farmez du CYBER en stakant des BNB, TUSD et FDUSD2023-08-01', 'Le listing du First Digital USD (FDUSD) sera reporté2023-07-26', 'Binance listera le First Digital USD (FDUSD) et annonce des promotions de frais de trading nuls sur le FDUSD2023-07-26', 'Binance listera le Worldcoin (WLD)2023-07-25', 'Binance ajoute les paires de trading ARB/ETH, BCH/TRY, XVG/TRY et XVG/TUSD2023-07-13', 'Découvrez la vente de tokens Arkham (ARKM) sur le Launchpad de Binance !2023-07-10', 'Lancement de Pendle (PENDLE) sur Binance Launchpool ! Farmez des PENDLE en stakant des BNB et TUSD2023-07-03', 'Binance listera le Pendle (PENDLE) dans la zone d’innovations2023-07-03', 'Binance ouvrira le trading pour le protocole Maverick (MAV)2023-06-27', 'Présentation de Maverick Protocol (MAV) sur Binance Launchpool ! Farmez du MAV en stakant des BNB et des TUSD2023-06-13', 'Binance ajoute les paires de trading ADA/TUSD, LTC/TUSD et TUSD/BUSD2023-05-30', 'Binance ajoute les paires de trading CITY/TRY et FLOKI/TRY2023-05-23', 'Binance ajoute les paires de trading CVC/USDT et WBETH/ETH2023-05-11', 'Binance ajoute les paires de trading OG/TRY et PEPE/TRY2023-05-09', 'Le listing du FLOKI (FLOKI) et du Pepe (PEPE) sera reporté2023-05-05', 'Binance listera le FLOKI (FLOKI) et le Pepe (PEPE) dans la zone d’innovations2023-05-05', 'Le listing de Sui (SUI) sera avancé2023-05-03', 'Binance ouvrira le trading pour le SUI2023-05-03', 'Présentation de Sui (SUI) sur Binance Launchpool ! Farmez du SUI en stakant des BNB et des TUSD2023-05-03', 'Binance achève la phase de lancement de la souscription à l’Open Campus sur le Launchpad et ouvrira le trading pour l’EDU2023-04-28', 'Trading de WBTC/USDT reporté2023-04-28', 'La souscription pour la vente de tokens Open Campus (EDU) sur la plateforme Binance Launchpad est maintenant ouverte2023-04-28', 'Binance ajoute les paires de trading DOGE/TUSD, USDT/ARS et WBTC/USDT2023-04-27', 'Découvrez les ventes de tokens Open Campus (EDU) sur le launchpad de Binance !2023-04-21', 'Binance ajoute les paires de trading EGLD/RON et USDT/RON2023-04-20', 'Binance ajoute les paires de trading ACH/TRY et XVS/TRY2023-04-18', 'Binance ajoute les paires de trading ARB/RUB, JOE/TRY, MAGIC/TRY et USDT/PLN2023-04-13', 'Présentation du Radiant Capital (RDNT) sur Binance Launchpool !Faites du farming de RDNT en stakant des BNB et des TUSD2023-03-30', 'Binance listera le Radiant Capital (RDNT) dans la zone d’innovations2023-03-30', 'Binance ajoute les paires de trading LDO/TUSD, MATIC/TUSD, OP/TUSD, SOL/TUSD, SSV/TUSD et XRP/TUSD2023-03-28', 'Binance ajoute les paires de trading ARB/EUR, ARB/TRY, ID/EUR et ID/TRY2023-03-24', 'Binance ajoute les paires de trading AGIX/TRY, LOOM/USDT et OAX/USDT2023-03-23', 'Binance complète la souscription de Space ID au Launchpad et ouvre le trading pour l’ID2023-03-22', 'La période de souscription pour le Launchpad Space ID (ID) est ouverte2023-03-22', 'Binance listera l’Arbitrum (ARB)2023-03-20', 'Découvrez la vente de tokens Space ID (ID) sur Binance Launchpad !2023-03-16', 'Binance ajoute les paires de trading GAS/USDT, GLM/USDT, PROM/USDT, QKC/USDT et UFT/USDT2023-03-16', 'Binance ajoute les paires de trading BNB/USDC, BTC/USDC et ETH/USDC2023-03-13', 'Binance ajoute les paires de trading AMB/USDT et BETH/USDT2023-03-02', 'Binance listera le Liquity (LQTY) dans la zone d’innovations2023-02-28', 'Binance ajoute les paires de trading SSV/USDT et VIB/USDT2023-02-24', 'Binance listera le Synapse (SYN) dans la zone d’innovations2023-02-22', 'Binance listera le Gains Network (GNS) dans la zone d’innovations2023-02-17', 'Binance ajoute les paires de trading BTC/RON, AGIX/USDT et APT/ETH2023-02-16', 'Binance ajoute les paires de trading FET/TRY et PROS/USDT2023-01-26', \"Binance listera le Rocket Pool (RPL) dans la zone d'innovations2023-01-18\", \"Binance listera le Magic (MAGIC) dans la Zone d'innovation2022-12-12\", 'Le Launchpad Hooked Protocol (HOOK) arrive sur Binance2022-11-23', 'Binance ajoute les paires de trading ARPA/ETH, PHB/USDT & VITE/BUSD2022-11-17', 'Présentation de Hashflow (HFT) sur Binance Launchpool ! Farmez du HFT en stakant des BNB et des BUSD.2022-10-31', 'Binance listera Osmosis (OSMO) dans la zone d’innovation2022-10-28', 'Binance ajoute les paires de trading APT/BRL et QKC/BUSD2022-10-27', 'Binance ajoute les paires de trading APT/EUR et APT/TRY2022-10-19', 'Binance listera Aptos (APT)2022-10-18', 'Binance ajoute les paires de trading AGIX/BUSD, NEBL/USDT et SNT/BUSD2022-10-13', 'Binance liste GMX (GMX) dans la zone d’innovations.2022-10-06', 'Binance ajoute les paires de trading OP/BTC, OP/BUSD et OP/USDT.2022-06-07', 'Le trading sur marge croisée pour THETA est arrivé sur Binance2020-12-16', 'Binance liste dForce (DF) dans sa zone Innovations2020-12-15', 'Binance ajoute les paires de trading LINK/BRL, LINK/NGN, LTC/RUB, TRX/TRY et XLM/EUR2020-12-15', \"Présentation des Fan Tokens de la Juventus et du Paris Saint-Germain sur Binance Launchpool ! Farmez des tokens JUV et PSG à l'aide de vos tokens BNB, BUSD et CHZ.2020-12-14\", \"L'AKRO, le MTL et le SKL tradables en marge isolée sur Binance2020-12-11\", \"L'effet de levier des tokens Binance à effet de levier a été ajusté à 1,25 - 4 x et nous listons SUSHIUP, SUSHIDOWN, XLMUP et XLMDOWN2020-12-11\", 'Binance liste Aavegotchi (GHST) au sein de sa zone Innovations2020-12-10', \"Binance Futures lance un contrat SKL perpétuel sur marge USDT avec un effet de levier jusqu'à 50x2020-12-10\", 'Le trading sur marge pour GBP, SUSHI et DCR est arrivé sur Binance2020-12-10', \"Binance Futures lance ses contrats à terme trimestriels sur marge en cryptomonnaie TRX, ETC et FIL 1225 et 0326 avec un effet de levier jusqu'à 75x2020-12-10\", 'Binance liste COVER Protocol (COVER) dans sa zone Innovations2020-12-10', 'Le trading sur marge croisée pour YFII est arrivé sur Binance2020-12-08', 'Binance liste sUSD (SUSD) au sein de sa zone Innovations2020-12-08', 'Avis de suppression de plusieurs paires de trading le 04/12/20202020-12-08', 'ORN et UNFI tradables en marge isolée sur Binance2020-12-04', 'Binance ajoute les paires de trading BCH/EUR, YFI/EUR et ZIL/BIDR2020-12-04', \"Binance Futures lance ses contrats à terme trimestriels sur marge en cryptomonnaie XRP, LTC, EOS et BCH 1225 et 0326 avec un effet de levier jusqu'à 75x2020-12-01\", 'Le trading sur marge pour ARDR, HARD, LTO et ZIL est arrivé sur Binance2020-12-01', 'Binance liste SKALE Network (SKL)2020-12-01', 'XVG est tradable en marge isolée sur Binance2020-11-30', 'Binance liste Prometeus (PROM) dans sa zone Innovations2020-11-30', 'Binance ajoute les paires de trading XRP/BRL et XRP/NGN2020-11-30', 'Binance va lister les tokens à effet de levier AAVEUP et AAVEDOWN2020-11-26', 'Binance liste Hegic (HEGIC) au sein de sa zone Innovations2020-11-26', 'Le trading sur marge pour arrive sur Binance pour WAVES, OMG, ROSE, MDT, ZEN et OXT2020-11-26', \"Binance Futures lance un contrat ZEN perpétuel sur marge USDT avec un effet de levier allant jusqu'à 50x2020-11-25\", 'Binance Options va lister un contrat LTC2020-11-25', 'Les paires de trading AVA/USDT, SYS/BUSD et XEM/USDT sont désormais disponibles sur Binance2020-11-25', \"Binance Futures lance un contrat ALPHA USDT perpétuel sur marge avec un effet de levier allant jusqu'à 50x2020-11-25\", 'Binance ajoute les paires de trading AVAX/TRY et BUSD/BRL2020-11-24', \"Binance Futures lance un contrat perpétuel AXS sur marge USDT avec un effet de levier allant jusqu'à 50x2020-11-24\", 'Binance liste et ouvre les dépôts pour Oasis Network (ROSE)2020-11-24', 'Le Hard fork Bitcoin Cash (BCH) est terminé. Binance distribue et liste Bitcoin Cash ABC (BCHA) au sein de la zone Innovations.2020-11-19', 'Le trading sur marge pour EUR et BEL est arrivé sur Binance2020-11-19', \"Binance Futures lance un contrat perpétuel CTK sur marge USDT avec un effet de levier allant jusqu'à 50x2020-11-19\", 'Binance liste Frontier (FRONT) dans sa zone Innovations2020-11-19', 'Binance liste The Force Protocol (FOR) dans sa zone Innovations2020-11-19', \"Binance Futures lance un contrat BEL perpétuel sur marge USDT avec un effet de levier allant jusqu'à 50x2020-11-19\", 'Avis de suppression de plusieurs paires de trading le 17/11/20202020-11-18', 'Le trading sur marge croisée pour COMP est arrivé sur Binance2020-11-18', 'Binance liste PowerPool (CVP) dans sa zone Innovations2020-11-18', 'Unifi Protocol DAO (UNFI) arrive sur Binance Launchpool ! Gagnez des UNFI en stakant vos tokens BNB, BUSD et ETH.2020-11-17', 'Le trading sur marge croisée pour AAVE est arrivé sur Binance2020-11-17', 'AXS, CTK, EUR, LOOM et UTK peuvent désormais être tradés sur marge isolée avec Binance2020-11-17', \"Binance Futures lance un contrat perpétuel CVC sur marge USDT avec un effet de levier allant jusqu'à 50x2020-11-12\", 'CVC, DNT, ALPHA et INJ activés pour le trading sur marge isolée sur Binance2020-11-12', \"Binance liste Axie Infinity's Small Love Potion (SLP) dans la zone Innovations2020-11-12\", 'Binance ajoute les paires de trading DNT/BUSD, DNT/USDT, ADA/EUR et LTC/NGN2020-11-12', 'Avis de suppression de plusieurs paires de trading le 01/11/20202020-11-12', 'Binance liste renBTC (RENBTC)2020-11-12', 'Binance ajoute les paires de trading BNB/BRL et LTC/EUR2020-11-07', 'Binance va supprimer POE et TNT des actifs listés sur la plateforme le 12/11/20202020-11-07', 'Binance termine le tirage au sort de la loterie Axie Infinity et va bientôt ouvrir le trading de AXS2020-11-07', 'Binance liste de nouvelles paires de trading BUSD et active DUSK sur Binance Margin en marge isolée2020-11-07', 'Binance liste Keep3rV1 (KP3R) au sein de sa zone Innovations2020-11-07', \"Binance Futures lance ses contrats à terme trimestriels sur marge en cryptomonnaie BNBUSD et DOTUSD 1225 et 0326 avec un effet de levier jusqu'à 75x2020-11-05\", 'Hard Protocol (HARD) arrive sur Binance Launchpool ! Gagnez des HARD en stakant vos tokens BNB, BUSD et KAVA.2020-11-05', \"Binance Futures lance un contrat perpétuel OCEAN sur marge USDT avec un effet de levier allant jusqu'à 50x2020-11-05\", 'Binance liste Akropolis (AKRO) au sein de sa zone Innovations2020-11-05', 'Binance ajoute les paires de trading ETH/BRL et DOT/EUR2020-10-30', 'Le trading sur marge croisée pour NEAR est arrivé sur Binance2020-10-30', 'Binance liste Bounce (BOT) dans sa zone Innovations2020-10-30', 'Binance liste de nouvelles paires de trading BUSD sur Binance Margin2020-10-30', 'Binance va supprimer MCO des actifs listés sur la plateforme le 02/11/20202020-10-28', 'Binance va lister les tokens à effet de levier BCHUP et BCHDOWN2020-10-28', 'Binance liste et ouvre les dépôts pour Audius (AUDIO)2020-10-27', 'Le trading sur marge croisée pour FIL est arrivé sur Binance2020-10-27', 'Binance liste EasyFi (EASY) au sein de sa zone Innovations2020-10-26', 'Binance ajoute les paires de trading LINK/EUR et ONE/BUSD.2020-10-26', 'Avis de suppression de plusieurs paires de trading le 23/10/20202020-10-26', 'Binance liste de nouvelles paires de trading BUSD sur Binance Margin2020-10-26', 'CertiK (CTK) arrive sur Binance Launchpool ! Gagnez des CTK en stakant vos tokens BNB, BUSD et CTK.2020-10-26', \"Binance Futures lance un contrat FIL/USD perpétuel sur marge avec un effet de levier allant jusqu'à 50x2020-10-26\", 'Binance liste Aergo (AERGO)2020-10-26', \"Binance Futures lance un contrat MATIC USDT perpétuel sur marge avec un effet de levier allant jusqu'à 50x2020-10-26\", 'Binance termine le tirage au sort de la loterie Injective Protocol et va bientôt ouvrir le trading de INJ2020-10-21', 'Binance va lister les tokens à effet de levier YFIUP et YFIDOWN2020-10-21', 'Le trading sur marge isolée pour AAVE et DATA est arrivé sur Binance2020-10-20', 'Le listing du contrat perpétuel FIL sur marge en crypto est reporté2020-10-20', \"Binance Futures lance un contrat perpétuel FIL/USD sur marge en crypto avec effet de levier jusqu'à 50x et listera les tokens Binance à effet de levier FILUP et FILDOWN2020-10-20\", \"Binance Futures lance deux contrats perpétuels RSR et LRC sur marge USDT avec un effet de levier allant jusqu'à 50x2020-10-20\", 'Le trading sur marge isolée pour FIL, XVS et NEAR est désormais possible sur Binance2020-10-17', \"Binance Futures lance un contrat FIL perpétuel sur marge USDT avec un effet de levier allant jusqu'à 50x2020-10-17\", 'Binance liste Filecoin (FIL) – Déposez du FIL et partagez-vous 100 000 $ de récompenses2020-10-17', 'Binance ajoute les paires de trading DOT/BKRW et SXP/GB2020-10-16', 'Le trading sur marge croisée pour YFII est arrivé sur Binance2020-10-16', \"Binance Futures lance un contrat perpétuel NEAR sur marge USDT avec un effet de levier allant jusqu'à 50x2020-10-15\", 'Binance va lister les tokens à effet de levier SXPUP et SXPDOWN2020-10-15', 'Binance liste et ouvre les dépôts pour NEAR Protocol (NEAR)2020-10-15', 'Le trading sur marge isolée pour FLM et WING est arrivé sur Binance2020-10-14', 'Binance ajoute les paires de trading BTC/BRL et USDT/BRL2020-10-14', \"Binance Futures lance un contrat KSM perpétuel sur marge USDT avec un effet de levier allant jusqu'à 50x2020-10-14\", 'Le trading sur marge croisée pour YFI est arrivé sur Binance2020-10-13', \"Binance Futures lance un contrat REN perpétuel sur marge USDT avec un effet de levier allant jusqu'à 50x2020-10-13\", \"Binance Futures lance un contrat perpétuel TOMO sur marge USDT avec un effet de levier allant jusqu'à 50x2020-10-13\", 'Binance liste VIDT Datalink (VIDT) au sein de sa zone Innovations2020-10-12', 'Binance termine le tirage au sort de la loterie Alpha Finance Lab et va bientôt ouvrir le trading de ALPHA2020-10-12', \"L'échange de tokens Aave (LEND) sera pris en charge sur Binance et bénéficiera de plusieurs mises à jours de services et de paiements.2020-10-07\", 'Binance liste UTRUST (UTK)2020-10-06', 'Binance ajoute les paires de trading TRX/NGN et SXP/TRY2020-10-03', 'Binance liste Orion Protocol (ORN)2020-10-03', 'Binance va lister les projets BSC CAKE et SPARTA dans la zone Innovations2020-09-30', 'Binance va lister les tokens à effet de levier UNIUP et UNIDOWN2020-09-30', \"Binance Futures lance un contrat FLM USDT perpétuel sur marge avec un effet de levier allant jusqu'à 50x2020-09-30\", \"Binance Futures lance un contrat ENJ perpétuel sur marge USDT avec un effet de levier allant jusqu'à 50x2020-09-30\", \"Binance Futures lance un contrat HNT perpétuel sur marge USDT avec un effet de levier allant jusqu'à 50x2020-09-30\", 'Le trading sur marge croisée pour UNI est arrivé sur Binance2020-09-30', 'Binance ajoute les paires de trading SXP/BIDR et LINK/BKRW2020-09-28', 'Binance Futures va lister des contrats à terme trimestriels 0326 sur marge en crypto pour BTC, ETH, ADA et LINK.2020-09-28', \"Binance va lister BSC Projects, BAKE et BURGER dans la Zone d'innovations.2020-09-28\", 'Le trading sur marge isolée pour EUR, AVAX et NKN est désormais possible sur Binance2020-09-28', 'Binance liste Helium (HNT)2020-09-28', \"Binance Futures lance un contrat FTM USDT perpétuel sur marge avec un effet de levier allant jusqu'à 50x2020-09-24\", \"Binance Futures lance un contrat perpétuel AVAX sur marge USDT avec un effet de levier allant jusqu'à 50x2020-09-24\", 'Le trading sur marge isolée pour NMR et VITE est arrivé sur Binance2020-09-24', 'Binance liste et ouvre les dépôts pour Avalanche (AVAX).2020-09-24', \"Binance lance sa zone d'innovations et liste SUN (SUN)2020-09-24\", 'Binance Options va lister un contrat LINK.2020-09-24', 'Binance liste Orchid (OXT).2020-09-24', 'Binance termine la distribution et annonce le listing de New BitShares (NBS).2020-09-21', 'Le trading sur marge isolée pour XZC et LUNA est arrivé sur Binance2020-09-19', \"Binance Futures lance un contrat UNI USDT perpétuel sur marge avec un effet de levier allant jusqu'à 50x2020-09-19\", 'Binance liste Uniswap (UNI)2020-09-19', 'Binance liste Cream Finance (CREAM).2020-09-19', \"Binance Futures lance un contrat BLZ perpétuel sur marge USDT avec un effet de levier allant jusqu'à 50x.2020-09-19\", 'Binance ajoute les paires de trading LEND/BKRW et SXP/EUR.2020-09-19', \"Binance Futures lance un contrat STORJ USDT perpétuel sur marge avec un effet de levier allant jusqu'à 50x.2020-09-19\", 'Binance va lister les tokens à effet de levier LTCUP et LTCDOWN.2020-09-19', 'Le trading sur marge isolée pour STX, STPT et UMA est désormais possible sur Binance.2020-09-19', 'Le listing du contrat perpétuel BTT sur marge USDT est annulé.2020-09-19', 'Binance liste Swerve (SWRV)2020-09-19', \"L'ouverture du trading pour Bella Protocol (BEL) est avancée au 15/09/2020.2020-09-18\", \"Binance Futures lance des contrats perpétuels EGLD, SOL, ICX et BTT sur marge USDT et un effet de levier allant jusqu'à 50x.2020-09-18\", \"Binance Futures va augmenter l'effet de levier maximum sur le contrat BNB à 75x.2020-09-18\", 'Le trading sur marge isolée pour RSR, DIA et OCEAN est désormais possible sur Binance2020-09-18', 'Binance ajoute les paires de trading SRM/BIDR, ONE/BIDR, LINK/TRY et USDT/NGN.2020-09-14', 'Le trading sur marge isolée pour KSM, RUNE, XEM et BLZ est désormais possible sur Binance.2020-09-14', 'Binance va lister les tokens à effet de levier EOSUP, EOSDOWN, TRXUP, TRXDOWN, XRPUP, XRPDOWN, DOTUP et DOTDOWN.2020-09-14', 'Binance liste UMA (UMA)2020-09-14', 'Le trading sur marge isolée pour PNT, WAN, SAND, TROY et BZRX est enfin disponible sur Binance.2020-09-09', \"Binance Futures lance deux contrats perpétuels XRPUSD et ETCUSD sur marge en cryptos avec un effet de levier allant jusqu'à 75x.2020-09-09\", \"Binance Futures lance deux contrats perpétuels LTCUSD et BCHUSD sur marge en crypto avec un effet de levier allant jusqu'à 75x2020-09-09\", \"Binance Futures lance deux contrats perpétuels TRXUSD et EOSUSD sur marge en crypto avec un effet de levier allant jusqu'à 75x2020-09-09\", 'Le trading sur marge isolée pour YFII et SUSHI est disponible sur Binance2020-09-09', \"Binance Futures lance ses contrats à terme trimestriels sur marge en cryptomonnaie ADAUSD et LINKUSD 1225 avec un effet de levier jusqu'à 75x2020-09-06\", \"Binance Futures lance deux contrats perpétuels SRM et BZRX sur marge USDT avec un effet de levier allant jusqu'à 50x2020-09-06\", 'Les paires de trading FIO/USDT et RUNE/USDT sont désormais disponibles sur Binance2020-09-06', 'Binance va supprimer Insolar (INS) de son listing le 11/09/20202020-09-05', 'Le trading sur marge isolée pour TRB, WNXM et TCT est désormais possible sur Binance2020-09-05', \"Binance Futures lance deux contrats perpétuels RUNE et SUSHI sur marge USDT et un effet de levier allant jusqu'à 50x2020-09-05\", 'Binance liste DIA (DIA)2020-09-04', 'Binance liste Kusama (KSM)2020-09-04', \"Binance Futures lance deux contrats perpétuels TRB et YFII sur marge USDT et un effet de levier allant jusqu'à 50x2020-09-04\", \"Binance a finalisé la transition vers le réseau principal et l'échange des tokens Elrond (ERD) vers Elrond Gold (EGLD)2020-09-03\", 'Binance liste Sushi (SUSHI) et DFI.Money (YFII)2020-09-03', \"Binance Futures augmentera l'effet de levier maximum sur les contrats DOT à 75x2020-09-03\", 'Les actifs DOT, ANT, CRV, BAL et YFI sont à présent disponibles pour le trading sur marge de Binance2020-09-03', \"Binance Futures lance deux contrats perpétuels BAL et CRV sur marge USDT et un effet de levier allant jusqu'à 50x2020-09-03\", \"Binance Futures lance un contrat YFI USDT perpétuel sur marge avec un effet de levier allant jusqu'à 50x2020-09-03\", 'Le passage du token et du réseau principal Elrond (ERD) vers Elrond Gold (EGLD) sera pris en charge par Binance2020-09-03', 'Binance liste Wrapped BTC (WBTC)2020-09-01', 'Binance va lister bZx Protocol (BZRX)2020-09-01', 'Binance liste le PAX Gold (PAXG)2020-08-27', \"Binance Futures lance un contrat ADA/USD perpétuel sur marge avec un effet de levier allant jusqu'à 75x2020-08-27\", 'Le trading sur marge isolée pour CTSI, ARPA, WTC, KMD, JST et COTI est arrivé sur Binance2020-08-27', 'Binance ajoute les paires de trading ETH/NGN, DOT/BIDR, LINK/AUD et SXP/AUD2020-08-27', 'Le trading sur marge isolée pour DOT et SRM est arrivé sur Binance2020-08-27', 'Binance liste Tellor (TRB)2020-08-27', \"Binance Futures lance un contrat perpétuel DEFI Composite Index avec un effet de levier allant jusqu'à 50x2020-08-27\", 'Binance liste le Wrapped NXM (WNXM)2020-08-27', 'Binance liste Reserve Rights (RSR)2020-08-26', \"Binance Futures lance un contrat DOT/USD perpétuel sur marge avec un effet de levier allant jusqu'à 50x2020-08-25\", 'Binance liste IDEX (IDEX)2020-08-25', 'Le listing des contrats perpétuels sur marge DOT USDT est décalé au 22/08/20202020-08-25', \"Binance Futures lance un contrat BNB/USD perpétuel sur marge avec un effet de levier allant jusqu'à 50x2020-08-22\", \"Binance Futures lance un contrat DOT USDT perpétuel sur marge avec un effet de levier allant jusqu'à 50x2020-08-19\", 'Binance liste Terra (LUNA)2020-08-19', 'Binance liste Polkadot (DOT) et prendra en charge le fractionnement 1:1002020-08-19', 'Le trading sur marge isolée pour GXS, CHZ, IRIS et SOL est arrivé sur Binance2020-08-19', \"Binance Futures lance un contrat LINK/USD perpétuel sur marge avec un effet de levier allant jusqu'à 75x2020-08-19\", 'Binance va lister Numeraire (NMR)2020-08-18', \"Binance Futures lance un contrat ETH/USD perpétuel sur marge avec un effet de levier allant jusqu'à 75x2020-08-18\", 'Binance va lister Ocean Protocol (OCEAN)2020-08-18', 'Binance a terminé le tirage de la loterie The Sandbox et va débuter le trading pour SAND2020-08-14', 'Binance va lister Curve (CRV), les dépôts sont ouverts2020-08-14', 'Binance va ouvrir le trading pour Curve (CRV)2020-08-14', \"Binance Futures va lancer un contrat perpétuel SNX/USDT sur marge avec un effet de levier jusqu'à 50x2020-08-13\", 'Binance va lister Aragon (ANT)2020-08-13', \"Binance Futures va lancer un contrat perpétuel MKR/USDT sur marge avec un effet de levier jusqu'à 50x2020-08-12\", 'Binance va lister Serum (SRM)2020-08-11', \"Binance Futures va lancer un contrat perpétuel WAVE/USDT sur marge avec un effet de levier jusqu'à 50x2020-08-11\", 'Binance a activé le trading sur marge isolée pour LSK, MANA et OGN2020-08-11', 'Binance va lister JUST (JST)2020-08-11', 'Binance va ajouter plusieurs paires de trading BUSD, USDT & DAI2020-08-11', 'Binance va lister yearn.finance (YFI)2020-08-10', 'Binance va lister Balancer (BAL)2020-08-07', 'Binance va ajouter plusieurs paires de trading AUD, BKRW, BUSD & USDT2020-08-06', 'Binance va lister Travala (AVA)2020-08-05', 'Binance va lister les Tokens à effet de levier BNBUP, BNBDOWN, XTZUP et XTZDOWN2020-08-05', 'Binance a activé le trading sur marge isolée pour IOTX, CELR, CHR, DOCK, MKR et VTHO2020-08-04', \"Binance Futures va lancer le contrat Futures trimestriel ETHUSD 1225avec un effet de levier jusqu'à 75x2020-08-04\", 'Binance Options va lister un contrat BNB2020-08-03', 'Binance va lister FIO Protocol (FIO)2020-07-31', 'Binance ajoute plusieurs paires de trading en dollar australien (AUD)2020-07-31', 'Avis de suppression de paires de trading - 31/07/20202020-07-30', \"Binance Futures va lancer un contrat perpétuel RLC/USDT avec un effet de levier jusqu'à 50x2020-07-30\", 'Binance a activé le trading sur marge isolée pour STORJ et BAND2020-07-30', 'Binance ajoute de multiples paires de trading BUSD, USDT et BKRW - 30/07/20202020-07-30', \"Binance Futures va lancer un contrat perpétuel BAND/USDT avec un effet de levier jusqu'à 50x2020-07-28\", 'Binance a activé le trading sur marge isolée pour RLC, FTM, HIVE et DGB2020-07-28', \"Binance Futures va lancer un contrat perpétuel KAVA/USDT avec un effet de levier jusqu'à 50x2020-07-27\", 'Binance va lister THORChain (RUNE)2020-07-24', 'Binance va lister Maker (MKR) & Dai (DAI)2020-07-23', \"Binance Futures va lancer le contrat Futures trimestriel ETHUSD 0925 avec un effet de levier jusqu'à 75x2020-07-23\", 'Binance a activé le trading sur marge isolée pour ONG, ANKR, FTT et SXP2020-07-23', \"Binance Futures va lancer un contrat perpétuel LEND/USDT avec un effet de levier jusqu'à 50x2020-07-22\", 'Binance va lister IRISnet (IRIS)2020-07-21', \"Binance Futures va lancer le contrat Futures trimestriel LINKUSD 0925 avec un effet de levier jusqu'à 75x2020-07-21\", 'Binance a activé le trading sur marge isolée pour ONE, SNX, TOMO, WAVES et WRX2020-07-21', \"Binance Futures va lancer un contrat perpétuel SXP/USDT avec un effet de levier jusqu'à 50x2020-07-21\", 'Binance ajoute les paires de trading DCR/BUSD, DGB/USDT, GBP/USDT, STORJ/BUSD et SXP/USDT2020-07-20', \"Binance Futures va lancer le contrat Futures trimestriel ADAUSD 0925 avec un effet de levier jusqu'à 75x2020-07-20\", 'Binance va lister VeThor Token (VTHO)2020-07-17', 'Binance a activé le trading sur marge isolée pour plusieurs paires de trading BUSD2020-07-17', 'Binance va lister les Tokens à effet de levier ADAUP, ADADOWN, LINKUP et LINKDOWN2020-07-15', 'Binance a activé le trading sur marge isolée pour DOGE, SC, REP, BNT et BTT2020-07-14', 'Binance va délister ARN, FUEL et LUN le 20/07/20202020-07-13', 'Binance va lister ETHUP et ETHDOWN, Tokens à effet de levier Binance2020-07-13', 'Binance va lister Synthetix (SNX)2020-07-09', \"Binance Futures va lancer un contrat perpétuel DOGE/USDT avec un effet de levier jusqu'à 50x2020-07-09\", 'Binance a activé le trading sur marge isolée pour COMP, NULS, LRC et LEND2020-07-09', \"Binance annonce l'acquisition de Swipe et liste Swipe (SXP)2020-07-07\", 'Binance a activé le trading sur marge isolée pour REN et ICX2020-07-07', 'Binance ajoute les paires de trading BKRW/BUSD, BKRW/USDT, SC/USDT et ZEN/USDT2020-07-06', 'Avis de suppression de paires de trading - 03/07/20202020-07-02', \"Binance Futures va lancer un contrat perpétuel OMG/USDT avec un effet de levier jusqu'à 50x2020-07-01\", 'Binance liste le Stablecoin Binance IDR (BIDR)2020-06-30', \"Binance Futures va lancer un contrat perpétuel COMP/USDT avec un effet de levier jusqu'à 50x2020-06-29\", 'Binance va lister Compound (COMP)2020-06-25', 'Binance va délister StableUSD (USDS)2020-06-24', \"Binance Futures va lancer un contrat perpétuel ZRX/USDT avec un effet de levier jusqu'à 50x2020-06-23\", 'Binance va lister DigiByte (DGB)2020-06-22', \"Binance Futures va lancer un contrat perpétuel KNC/USDT avec un effet de levier jusqu'à 50x2020-06-22\", 'Binance va lister Everipedia (IQ)2020-06-18', 'Binance a activé le trading sur marge isolée pour HBAR, ENJ et NANO2020-06-18', \"Binance Futures va lancer un contrat perpétuel ZIL/USDT avec un effet de levier jusqu'à 50x2020-06-17\", 'Binance a activé le trading sur marge isolée pour KNC et TFUEL2020-06-16', \"Binance Futures va lancer un contrat perpétuel ALGO/USDT avec un effet de levier jusqu'à 50x2020-06-15\", 'Binance ajoute des paires de trading BUSD et USDT pour KNC, REP et LRC2020-06-12', 'Avis de suppression de paires de trading - 12/06/20202020-06-11', 'Lancement des contrats Futures trimestriels BTCUSD sur Binance Futures2020-06-11', 'Binance a activé le trading sur marge isolée pour FET et ALGO2020-06-11', 'Binance a activé le trading sur marge isolée pour ZIL et OMG2020-06-09', 'Binance va lister le gagnant du neuvième tour du vote pour les monnaies par la communauté, MDT, et a distribué les récompenses2020-06-05', 'Binance a activé le trading sur marge isolée pour KAVA2020-06-04', 'Le Swap de Tokens Storm (STORM) vers STMX sera pris en charge par Binance2020-06-03', 'Binance a activé le trading sur marge isolée pour THETA et ZRX2020-06-02', 'Binance repousse la date de début du trading de Binance IDR (BIDR)2020-06-01', 'Binance liste le Stablecoin Binance IDR (BIDR)2020-06-01', 'Avis de suppression de paires de trading - 29/05/20202020-05-28', \"Binance Futures va lancer un contrat perpétuel THETA/USDT avec un effet de levier jusqu'à 50x2020-05-26\", 'Binance active le trading sur marge isolée pour ADA, EOS, ETC, LINK et MATIC2020-05-26', 'Binance Options liste les contrats ETH et XRP2020-05-25', 'Binance ajoute des paires de trading BUSD pour HBAR, MATIC, WRX et ZIL2020-05-22', 'Avis de suppression de paires de trading - 22/05/20202020-05-21', 'Avis de suppression de paires de trading - 15/05/20202020-05-14', 'Binance annonce le lancement des Tokens à effet de levier Binance (BLVT) et va lister BTCUP et BTCDOWN2020-05-12', 'Avis de suppression de paires de trading - 09/05/20202020-05-08', 'Binance va lister le gagnant du huitième tour du vote pour les monnaies par la communauté, CHR, et a distribué les récompenses2020-05-07', 'Avis de suppression de paires de trading - 30/04/20202020-04-29', 'Binance va lister Hive (HIVE)2020-04-27', 'Avis de suppression de paires de trading - 24/04/20202020-04-23', 'Binance a terminé le tirage de la loterie Cartesi et va débuter le trading pour CTSI2020-04-22', 'Binance va lister le Token Rupiah (IDRT)2020-04-16', 'Binance Loans ajoute BCH, LTC et XRP comme options de collatéral2020-04-14', \"Binance propose le trading d'options sur son application mobile2020-04-13\", 'Binance ajoute des paires de trading supplémentaires pour DATA, WTC et XZC2020-04-07', 'Avis de suppression de paires de trading - 03/04/20202020-04-02', 'Binance a retiré de son listing tous les Tokens à effet de levier FTX et va terminer la distribution des BUSD2020-03-31', 'Binance liste le Stablecoin Binance KRW (BKRW)2020-03-31', 'Binance va délister tous les Tokens à effet de levier FTX2020-03-28', 'Avis de suppression de paires de trading - 27/03/20202020-03-26', 'Binance va lister le gagnant du septième tour du vote pour les monnaies par la communauté, STPT, et a distribué les récompenses2020-03-25', 'Avis de suppression de paires de trading - 20/03/20202020-03-19', \"Binance Futures augmente l'effet de levier maximum sur le contrat XTZ/USDT à 75x2020-03-16\", 'Binance liste les Tokens à effet de levier FTX : BNBBULL & BNBBEAR2020-03-11', 'Avis de suppression de paires de trading - 11/03/20202020-03-10', 'Avis de suppression de paires de trading - 2020/02/282020-02-28', 'Binance ajoute des paires de trading BUSD pour ALGO, BTT, TOMO, XMR & ZEC2020-02-27', 'Binance ajoute des paires sur marge BUSD pour ETC, TRX et ADA2020-02-27', 'Binance va lister le gagnant du sixième tour du vote pour les monnaies par la communauté, MBL, et a distribué les récompenses2020-02-21', \"Binance Futures va lancer un contrat perpétuel IOST/USDT avec un effet de levier jusqu'à 50x2020-02-20\", 'Avis de suppression de paires de trading - 20/02/20202020-02-19', \"Binance Futures va lancer un contrat perpétuel QTUM/USDT avec un effet de levier jusqu'à 50x2020-02-19\", 'Binance ajoute des paires de trading supplémentaires pour STRAT et AION2020-02-19', \"Binance Futures va lancer un contrat perpétuel NEO/USDT avec un effet de levier jusqu'à 50x2020-02-16\", 'Binance ajoute des paires de trading BUSD pour BAT, ENJ, NANO, ONT & RVN2020-02-14', \"Binance Futures va lancer un contrat perpétuel VET/USDT avec un effet de levier jusqu'à 50x2020-02-13\", \"Binance Futures va lancer un contrat perpétuel BAT/USDT avec un effet de levier jusqu'à 50x2020-02-12\", 'Binance liste les Tokens à effet de levier FTX : EOSBULL, EOSBEAR, XRPBULL & XRPBEAR2020-02-12', 'Binance ajoute des paires de trading BUSD pour ATOM, DASH, NEO, WAVES & XTZ2020-02-11', \"Binance Futures va lancer un contrat perpétuel ONT/USDT avec un effet de levier jusqu'à 50x2020-02-10\", \"Binance Futures va lancer un contrat perpétuel BNB/USDT avec un effet de levier jusqu'à 50x2020-02-07\", 'Avis de suppression de paires de trading - 07/02/20202020-02-06', \"Binance Futures va lancer un contrat perpétuel ATOM/USDT avec un effet de levier jusqu'à 50x2020-02-06\", 'Binance ajoute des paires sur marge BUSD pour BNB et ETH2020-02-06', 'Binance ajoute des paires de trading de Stablecoin pour ICX, BTS, LSK et BNT2020-02-06', \"Binance Futures va lancer un contrat perpétuel XTZ/USDT avec un effet de levier jusqu'à 50x2020-02-05\", 'Binance a terminé le tirage de la loterie WazirX et entamera le trading pour WRX2020-02-04', \"Binance Futures va lancer un contrat perpétuel ZEC/USDT avec un effet de levier jusqu'à 50x2020-02-04\", 'Binance ajoute des paires de trading sur marge BUSD pour BCH, EOS, XRP et LTC2020-02-03', \"Binance Futures va lancer un contrat perpétuel DASH/USDT avec un effet de levier jusqu'à 50x2020-02-03\", 'Binance va recommencer le trading pour les paires ETHBULL/USDT, ETHBULL/BUSD, ETHBEAR/USDT et ETHBEAR/BUSD2020-02-03', \"Binance Futures va lancer un contrat perpétuel XMR/USDT avec un effet de levier jusqu'à 75x2020-02-02\", \"Binance Futures va lancer un contrat perpétuel ADA/USDT avec un effet de levier jusqu'à 75x2020-01-30\", \"Binance Futures va lancer un contrat perpétuel XLM/USDT avec un effet de levier jusqu'à 75x2020-01-19\", 'Arrêt temporaire du trading pour les paires ETHBULL et ETHBEAR2020-01-17', 'Binance liste les Tokens à effet de levier FTX : BULL, BEAR, ETHBULL & ETHBEAR2020-01-17', 'Binance ajoute le trading sur marge pour BUSD2020-01-17', 'Binance va lister le gagnant du cinquième tour du vote pour les monnaies par la communauté, DREP, et a distribué les récompenses2020-01-16', \"Binance Futures va lancer un contrat perpétuel LINK/USDT avec un effet de levier jusqu'à 75x2020-01-16\", \"Binance Futures lancera un contrat perpétuel ETC/USDT avec un effet de levier jusqu'à 75x2020-01-15\", \"Binance Futures lancera un contrat perpétuel TRX/USDT avec un effet de levier jusqu'à 75x2020-01-14\", \"Binance Futures lancera un contrat perpétuel LTC/USDT avec un effet de levier jusqu'à 75x2020-01-08\", \"Binance Futures va lancer un contrat perpétuel EOS/USDT avec un effet de levier allant jusqu'à 75x2020-01-07\", 'Binance liste Origin Protocol (OGN)2020-01-07', \"Binance Futures lance un contrat perpétuel XRP/USDT avec un effet de levier allant jusqu'à 75x2020-01-06\", 'Avis de suppression de paires de trading USDC - 07/01/20202020-01-06', 'Binance annonce un investissement stratégique dans FTX et liste le Token FTX (FTT)2019-12-20', 'Binance Futures lance un contrat à terme perpétuel BCH/USDT avec un levier jusqu’à 75x2019-12-19', 'Avis de suppression de paires de trading - 2019/12/202019-12-19', 'Binance va lister le gagnant du quatrième tour du vote pour les monnaies par la communauté, VITE, et a distribué les récompenses2019-12-13', 'Binance ajoute les paires de trading BUSD/RUB, VET/BUSD et QTUM/BUSD2019-12-06', 'Binance a terminé le tirage de la loterie Troy et entamera le trading pour TROY2019-12-04', 'Avis de suppression de paires de trading - 04/12/20192019-12-03', 'Binance ajoute le trading sur marge pour RVN2019-12-03', 'Binance ajoute des paires de trading pour le rouble russe (RUB)2019-12-02', \"Binance Futures lance un contrat à terme perpétuel ETH/USDT - Avec un effet de levier jusqu'à 50x2019-11-29\", 'Binance ajoute le trading sur marge pour XTZ2019-11-26', 'Binance va lister le gagnant du troisième tour du vote pour les monnaies par la communauté, CTXC, et a distribué les récompenses2019-11-22', 'Binance ajoute les paires de trading XLM/BUSD et ADA/BUSD2019-11-20', 'Binance ajoute la paire de trading MCO/USDT2019-11-19', 'Notification de la suppression de paires de trading - 15/11/20192019-11-14', 'Binance ajoute le trading sur marge pour IOTA2019-11-14', 'Binance ajoute les paires de trading IOTX/USDT et RLC/USDT2019-11-13', 'Binance Margin ajoute BNB/ETH aux paires de trading sur marge disponibles2019-11-07', 'Binance ajoute les paires de trading TRX/BUSD et EOS/BUSD2019-11-07', 'Binance va lister le gagnant du deuxième tour du vote pour les monnaies par la communauté, ARPA, et a distribué les récompenses2019-11-06', 'Binance ajoute le trading sur marge pour XRP/ETH2019-11-05', 'Avis de suppression de paires de trading - 01/11/20192019-10-31']\n"
     ]
    }
   ],
   "source": [
    "from tools.web_selenium import *\n",
    "from tools.analyse import *\n",
    "import time\n",
    "\n",
    "web = selenium(\"https://www.binance.com/fr/support/announcement/nouveaux-listing-de-cryptomonnaies?c=48\",5)\n",
    "cookie_element  = \"//button[@id='onetrust-reject-all-handler']\"\n",
    "web.click_items(cookie_element,True)\n",
    "\n",
    "tab = []\n",
    "for j in range(22):\n",
    "    for i in range(1,21):\n",
    "        annonce_link = \"//div[2]/div[2]/div[2]/section/div/div/div[\"+str(i)+\"]/a/div\"\n",
    "        annonce = web.click_items(annonce_link,False)\n",
    "        tab.append(annonce)\n",
    "    time.sleep(5)\n",
    "    next = \".css-1pysja1 #next-page > .css-3kwgah\"\n",
    "    web.click_items_css(next,True)\n",
    "\n",
    "web.end()\n",
    "print(tab)"
   ]
  },
  {
   "cell_type": "code",
   "execution_count": 6,
   "metadata": {},
   "outputs": [
    {
     "name": "stdout",
     "output_type": "stream",
     "text": [
      "[['ALT/USDT'], ['MANTA/USDT'], ['XAI/USDT'], ['AI/USDT'], ['NFP/USDT'], ['BONK/USDT'], ['1000SATS/USDT'], ['ACE/USDT'], ['JTO/USDT'], ['AEUR/USDT'], ['BLUR/USDT'], ['ORDI/USDT'], ['TIA/USDT'], ['MEME/USDT'], ['NTRN/USDT'], ['NTRN/USDT'], ['SEI/USDT'], ['CYBER/USDT'], ['FDUSD/USDT'], ['WLD2023-07-25/USDT'], ['PENDLE/USDT'], ['FLOKI/USDT', 'PEPE/USDT'], ['RDNT/USDT'], ['ARB2023-03-20/USDT'], ['LQTY/USDT'], ['SYN/USDT'], ['GNS/USDT'], ['RPL/USDT'], ['MAGIC/USDT'], ['OSMO/USDT'], ['APT2022-10-18/USDT']]\n"
     ]
    }
   ],
   "source": [
    "list = []\n",
    "for i in range(len(tab)):\n",
    "    var = analyse(tab[i])\n",
    "    if var.check_paire([\"introduction\", \"listera\"]) == True:\n",
    "        paire = var.paire()\n",
    "        if not(paire  == []):\n",
    "            list.append(paire)\n",
    "\n",
    "print(list)"
   ]
  },
  {
   "cell_type": "code",
   "execution_count": 36,
   "metadata": {},
   "outputs": [
    {
     "name": "stdout",
     "output_type": "stream",
     "text": [
      "le symbole n'existe pas ['WLD2023-07-25/USDT']\n",
      "le symbole n'existe pas ['ARB2023-03-20/USDT']\n",
      "le symbole n'existe pas ['APT2022-10-18/USDT']\n"
     ]
    }
   ],
   "source": [
    "import pandas\n",
    "\n",
    "def history_year(symbol):\n",
    "    try:\n",
    "        time.sleep(3)\n",
    "        tab = binance.fetch_ohlcv(symbol=symbol[0],timeframe='1w', limit=1000) \n",
    "        df = pandas.DataFrame(tab,columns = ['time', 'open', 'high', 'low', 'close', 'volume'])\n",
    "        return (True, df) \n",
    "    except:\n",
    "        return (False, \"None\")\n",
    "\n",
    "gain = []\n",
    "for i in range(len(list)):\n",
    "    tab = history_year(list[i])\n",
    "    if tab[0] == True:\n",
    "        entry_price = tab[1].loc[0, \"open\"]\n",
    "        max_price = tab[1]['high'].max()\n",
    "        pourcentage = ((100 * max_price) / entry_price) - 100\n",
    "        gain.append(pourcentage)\n",
    "    else:\n",
    "        print(f\"le symbole n'existe pas {list[i]}\")"
   ]
  },
  {
   "cell_type": "code",
   "execution_count": 40,
   "metadata": {},
   "outputs": [
    {
     "name": "stdout",
     "output_type": "stream",
     "text": [
      "3244.207599213718 2345.6877891800596\n",
      "[7466.666666666666, 7680.0, 6080.999999999999, 8500.0, 9300.0, 104.91803278688525, 287.6644736842105, 4730.579669560348, 3193.333333333334, 221.83908045977012, 94.24637324809441, 1458.0016934801015, 608.9433437608621, 9900.0, 488.2599580712788, 488.2599580712788, 1279.375, 1135.4166666666667, 5.0, 233.4915341200616, 67.18266253869967, 80.69216757741347, 286.0, 92.06300813008127, 130.10610079575596, 154.5596258768511, 509.7356712902382, 1101.923076923077]\n"
     ]
    }
   ],
   "source": [
    "import statistics\n",
    "mean = statistics.mean(gain)\n",
    "ecart_type = statistics.pstdev(gain)\n",
    "print(ecart_type, mean)\n",
    "print(gain)"
   ]
  },
  {
   "cell_type": "code",
   "execution_count": 82,
   "metadata": {},
   "outputs": [
    {
     "name": "stdout",
     "output_type": "stream",
     "text": [
      "le gain est 1447.0, il reste amont : 0.0\n",
      "le gain est 1447.0, il reste amont : 0.0\n",
      "le gain est 1447.0, il reste amont : 0.0\n",
      "le gain est 1447.0, il reste amont : 0.0\n",
      "le gain est 1447.0, il reste amont : 0.0\n",
      "le gain est -100, il reste amont : 1\n",
      "le gain est -100, il reste amont : 1\n",
      "le gain est 1447.0, il reste amont : 0.0\n",
      "le gain est 1447.0, il reste amont : 0.0\n",
      "le gain est -100, il reste amont : 1\n",
      "le gain est -100, il reste amont : 1\n",
      "le gain est 264.0, il reste amont : 0.55\n",
      "le gain est -54.5, il reste amont : 0.9\n",
      "le gain est 1447.0, il reste amont : 0.0\n",
      "le gain est -100, il reste amont : 1\n",
      "le gain est -100, il reste amont : 1\n",
      "le gain est 264.0, il reste amont : 0.55\n",
      "le gain est 264.0, il reste amont : 0.55\n",
      "le gain est -100, il reste amont : 1\n",
      "le gain est -100, il reste amont : 1\n",
      "le gain est -100, il reste amont : 1\n",
      "le gain est -100, il reste amont : 1\n",
      "le gain est -100, il reste amont : 1\n",
      "le gain est -100, il reste amont : 1\n",
      "le gain est -100, il reste amont : 1\n",
      "le gain est -100, il reste amont : 1\n",
      "le gain est -54.5, il reste amont : 0.9\n",
      "le gain est 264.0, il reste amont : 0.55\n",
      "le gain totale est de 12669.93, fee : 1253.07, l'invetisement total est de 2800, + : 12376.07\n"
     ]
    }
   ],
   "source": [
    "import math\n",
    "def test(price, tab, gain):\n",
    "    temp = []\n",
    "    fee =  0.09\n",
    "    for i in range(len(gain)):\n",
    "        start =  0\n",
    "        amont = 1\n",
    "        for j in range(len(tab)):\n",
    "            if gain[i] >= tab[j][0]:\n",
    "                start = start + (price  - price*fee) * (tab[j][0]/ 100) *  tab[j][1] \n",
    "                amont = amont - tab[j][1] \n",
    "        print(f\"le gain est {start - price}, il reste amont : {round(amont, 4)}\")   \n",
    "        temp.append(start)  \n",
    "    return f\"le gain totale est de {sum(temp) - sum(temp) * (fee)}, fee : {sum(temp) * (fee)}, l'invetisement total est de {price*len(gain)}, + : {(sum(temp) + sum(temp) * (fee)) - price*len(gain)}\"\n",
    "\n",
    "\n",
    "\n",
    "target = [\n",
    "    [500,  0.1],\n",
    "    [1000, 0.35],\n",
    "    [2000, 0.35],\n",
    "    [3000, 0.2]\n",
    "]\n",
    "\n",
    "print(test(100, target, gain))"
   ]
  }
 ],
 "metadata": {
  "kernelspec": {
   "display_name": "Python 3",
   "language": "python",
   "name": "python3"
  },
  "language_info": {
   "codemirror_mode": {
    "name": "ipython",
    "version": 3
   },
   "file_extension": ".py",
   "mimetype": "text/x-python",
   "name": "python",
   "nbconvert_exporter": "python",
   "pygments_lexer": "ipython3",
   "version": "3.11.7"
  }
 },
 "nbformat": 4,
 "nbformat_minor": 2
}
